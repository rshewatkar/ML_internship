{
 "cells": [
  {
   "cell_type": "code",
   "execution_count": 3,
   "id": "4b3ce622",
   "metadata": {},
   "outputs": [
    {
     "name": "stdout",
     "output_type": "stream",
     "text": [
      "Collecting kagglehub\n",
      "  Downloading kagglehub-0.3.12-py3-none-any.whl.metadata (38 kB)\n",
      "Requirement already satisfied: packaging in c:\\users\\rshew\\appdata\\roaming\\python\\python313\\site-packages (from kagglehub) (25.0)\n",
      "Requirement already satisfied: pyyaml in c:\\users\\rshew\\anaconda3\\lib\\site-packages (from kagglehub) (6.0.2)\n",
      "Requirement already satisfied: requests in c:\\users\\rshew\\anaconda3\\lib\\site-packages (from kagglehub) (2.32.3)\n",
      "Requirement already satisfied: tqdm in c:\\users\\rshew\\anaconda3\\lib\\site-packages (from kagglehub) (4.67.1)\n",
      "Requirement already satisfied: charset-normalizer<4,>=2 in c:\\users\\rshew\\anaconda3\\lib\\site-packages (from requests->kagglehub) (3.3.2)\n",
      "Requirement already satisfied: idna<4,>=2.5 in c:\\users\\rshew\\anaconda3\\lib\\site-packages (from requests->kagglehub) (3.7)\n",
      "Requirement already satisfied: urllib3<3,>=1.21.1 in c:\\users\\rshew\\anaconda3\\lib\\site-packages (from requests->kagglehub) (2.3.0)\n",
      "Requirement already satisfied: certifi>=2017.4.17 in c:\\users\\rshew\\anaconda3\\lib\\site-packages (from requests->kagglehub) (2025.6.15)\n",
      "Requirement already satisfied: colorama in c:\\users\\rshew\\appdata\\roaming\\python\\python313\\site-packages (from tqdm->kagglehub) (0.4.6)\n",
      "Downloading kagglehub-0.3.12-py3-none-any.whl (67 kB)\n",
      "Installing collected packages: kagglehub\n",
      "Successfully installed kagglehub-0.3.12\n",
      "Note: you may need to restart the kernel to use updated packages.\n"
     ]
    }
   ],
   "source": [
    "pip install kagglehub"
   ]
  },
  {
   "cell_type": "code",
   "execution_count": 9,
   "id": "a9ddc1b6",
   "metadata": {},
   "outputs": [
    {
     "name": "stdout",
     "output_type": "stream",
     "text": [
      "Path to dataset files: C:\\Users\\rshew\\.cache\\kagglehub\\datasets\\abdulwadood11220\\netflix-customer-churn-dataset\\versions\\1\n"
     ]
    }
   ],
   "source": [
    "import kagglehub\n",
    "\n",
    "# Download latest version\n",
    "path = kagglehub.dataset_download(\"abdulwadood11220/netflix-customer-churn-dataset\")\n",
    "\n",
    "print(\"Path to dataset files:\", path)"
   ]
  },
  {
   "cell_type": "code",
   "execution_count": 10,
   "id": "aa75b31b",
   "metadata": {},
   "outputs": [
    {
     "data": {
      "text/plain": [
       "['netflix_customer_churn.csv']"
      ]
     },
     "execution_count": 10,
     "metadata": {},
     "output_type": "execute_result"
    }
   ],
   "source": [
    "import os\n",
    "# List files in the downloaded dataset directory\n",
    "files = os.listdir(path)\n",
    "files\n"
   ]
  },
  {
   "cell_type": "code",
   "execution_count": 15,
   "id": "0001e1be",
   "metadata": {},
   "outputs": [
    {
     "data": {
      "text/html": [
       "<div>\n",
       "<style scoped>\n",
       "    .dataframe tbody tr th:only-of-type {\n",
       "        vertical-align: middle;\n",
       "    }\n",
       "\n",
       "    .dataframe tbody tr th {\n",
       "        vertical-align: top;\n",
       "    }\n",
       "\n",
       "    .dataframe thead th {\n",
       "        text-align: right;\n",
       "    }\n",
       "</style>\n",
       "<table border=\"1\" class=\"dataframe\">\n",
       "  <thead>\n",
       "    <tr style=\"text-align: right;\">\n",
       "      <th></th>\n",
       "      <th>customer_id</th>\n",
       "      <th>age</th>\n",
       "      <th>gender</th>\n",
       "      <th>subscription_type</th>\n",
       "      <th>watch_hours</th>\n",
       "      <th>last_login_days</th>\n",
       "      <th>region</th>\n",
       "      <th>device</th>\n",
       "      <th>monthly_fee</th>\n",
       "      <th>churned</th>\n",
       "      <th>payment_method</th>\n",
       "      <th>number_of_profiles</th>\n",
       "      <th>avg_watch_time_per_day</th>\n",
       "      <th>favorite_genre</th>\n",
       "    </tr>\n",
       "  </thead>\n",
       "  <tbody>\n",
       "    <tr>\n",
       "      <th>0</th>\n",
       "      <td>a9b75100-82a8-427a-a208-72f24052884a</td>\n",
       "      <td>51</td>\n",
       "      <td>Other</td>\n",
       "      <td>Basic</td>\n",
       "      <td>14.73</td>\n",
       "      <td>29</td>\n",
       "      <td>Africa</td>\n",
       "      <td>TV</td>\n",
       "      <td>8.99</td>\n",
       "      <td>1</td>\n",
       "      <td>Gift Card</td>\n",
       "      <td>1</td>\n",
       "      <td>0.49</td>\n",
       "      <td>Action</td>\n",
       "    </tr>\n",
       "    <tr>\n",
       "      <th>1</th>\n",
       "      <td>49a5dfd9-7e69-4022-a6ad-0a1b9767fb5b</td>\n",
       "      <td>47</td>\n",
       "      <td>Other</td>\n",
       "      <td>Standard</td>\n",
       "      <td>0.70</td>\n",
       "      <td>19</td>\n",
       "      <td>Europe</td>\n",
       "      <td>Mobile</td>\n",
       "      <td>13.99</td>\n",
       "      <td>1</td>\n",
       "      <td>Gift Card</td>\n",
       "      <td>5</td>\n",
       "      <td>0.03</td>\n",
       "      <td>Sci-Fi</td>\n",
       "    </tr>\n",
       "    <tr>\n",
       "      <th>2</th>\n",
       "      <td>4d71f6ce-fca9-4ff7-8afa-197ac24de14b</td>\n",
       "      <td>27</td>\n",
       "      <td>Female</td>\n",
       "      <td>Standard</td>\n",
       "      <td>16.32</td>\n",
       "      <td>10</td>\n",
       "      <td>Asia</td>\n",
       "      <td>TV</td>\n",
       "      <td>13.99</td>\n",
       "      <td>0</td>\n",
       "      <td>Crypto</td>\n",
       "      <td>2</td>\n",
       "      <td>1.48</td>\n",
       "      <td>Drama</td>\n",
       "    </tr>\n",
       "    <tr>\n",
       "      <th>3</th>\n",
       "      <td>d3c72c38-631b-4f9e-8a0e-de103cad1a7d</td>\n",
       "      <td>53</td>\n",
       "      <td>Other</td>\n",
       "      <td>Premium</td>\n",
       "      <td>4.51</td>\n",
       "      <td>12</td>\n",
       "      <td>Oceania</td>\n",
       "      <td>TV</td>\n",
       "      <td>17.99</td>\n",
       "      <td>1</td>\n",
       "      <td>Crypto</td>\n",
       "      <td>2</td>\n",
       "      <td>0.35</td>\n",
       "      <td>Horror</td>\n",
       "    </tr>\n",
       "    <tr>\n",
       "      <th>4</th>\n",
       "      <td>4e265c34-103a-4dbb-9553-76c9aa47e946</td>\n",
       "      <td>56</td>\n",
       "      <td>Other</td>\n",
       "      <td>Standard</td>\n",
       "      <td>1.89</td>\n",
       "      <td>13</td>\n",
       "      <td>Africa</td>\n",
       "      <td>Mobile</td>\n",
       "      <td>13.99</td>\n",
       "      <td>1</td>\n",
       "      <td>Crypto</td>\n",
       "      <td>2</td>\n",
       "      <td>0.13</td>\n",
       "      <td>Action</td>\n",
       "    </tr>\n",
       "  </tbody>\n",
       "</table>\n",
       "</div>"
      ],
      "text/plain": [
       "                            customer_id  age  gender subscription_type  \\\n",
       "0  a9b75100-82a8-427a-a208-72f24052884a   51   Other             Basic   \n",
       "1  49a5dfd9-7e69-4022-a6ad-0a1b9767fb5b   47   Other          Standard   \n",
       "2  4d71f6ce-fca9-4ff7-8afa-197ac24de14b   27  Female          Standard   \n",
       "3  d3c72c38-631b-4f9e-8a0e-de103cad1a7d   53   Other           Premium   \n",
       "4  4e265c34-103a-4dbb-9553-76c9aa47e946   56   Other          Standard   \n",
       "\n",
       "   watch_hours  last_login_days   region  device  monthly_fee  churned  \\\n",
       "0        14.73               29   Africa      TV         8.99        1   \n",
       "1         0.70               19   Europe  Mobile        13.99        1   \n",
       "2        16.32               10     Asia      TV        13.99        0   \n",
       "3         4.51               12  Oceania      TV        17.99        1   \n",
       "4         1.89               13   Africa  Mobile        13.99        1   \n",
       "\n",
       "  payment_method  number_of_profiles  avg_watch_time_per_day favorite_genre  \n",
       "0      Gift Card                   1                    0.49         Action  \n",
       "1      Gift Card                   5                    0.03         Sci-Fi  \n",
       "2         Crypto                   2                    1.48          Drama  \n",
       "3         Crypto                   2                    0.35         Horror  \n",
       "4         Crypto                   2                    0.13         Action  "
      ]
     },
     "execution_count": 15,
     "metadata": {},
     "output_type": "execute_result"
    }
   ],
   "source": [
    "import pandas as pd\n",
    "# Load the dataset\n",
    "df = pd.read_csv(os.path.join(path, 'netflix_customer_churn.csv'))\n",
    "df.head()"
   ]
  },
  {
   "cell_type": "code",
   "execution_count": 16,
   "id": "397de772",
   "metadata": {},
   "outputs": [
    {
     "name": "stdout",
     "output_type": "stream",
     "text": [
      "<class 'pandas.core.frame.DataFrame'>\n",
      "RangeIndex: 5000 entries, 0 to 4999\n",
      "Data columns (total 14 columns):\n",
      " #   Column                  Non-Null Count  Dtype  \n",
      "---  ------                  --------------  -----  \n",
      " 0   customer_id             5000 non-null   object \n",
      " 1   age                     5000 non-null   int64  \n",
      " 2   gender                  5000 non-null   object \n",
      " 3   subscription_type       5000 non-null   object \n",
      " 4   watch_hours             5000 non-null   float64\n",
      " 5   last_login_days         5000 non-null   int64  \n",
      " 6   region                  5000 non-null   object \n",
      " 7   device                  5000 non-null   object \n",
      " 8   monthly_fee             5000 non-null   float64\n",
      " 9   churned                 5000 non-null   int64  \n",
      " 10  payment_method          5000 non-null   object \n",
      " 11  number_of_profiles      5000 non-null   int64  \n",
      " 12  avg_watch_time_per_day  5000 non-null   float64\n",
      " 13  favorite_genre          5000 non-null   object \n",
      "dtypes: float64(3), int64(4), object(7)\n",
      "memory usage: 547.0+ KB\n"
     ]
    }
   ],
   "source": [
    "df.info()"
   ]
  },
  {
   "cell_type": "code",
   "execution_count": 17,
   "id": "396fb3e0",
   "metadata": {},
   "outputs": [
    {
     "data": {
      "text/plain": [
       "customer_id               0\n",
       "age                       0\n",
       "gender                    0\n",
       "subscription_type         0\n",
       "watch_hours               0\n",
       "last_login_days           0\n",
       "region                    0\n",
       "device                    0\n",
       "monthly_fee               0\n",
       "churned                   0\n",
       "payment_method            0\n",
       "number_of_profiles        0\n",
       "avg_watch_time_per_day    0\n",
       "favorite_genre            0\n",
       "dtype: int64"
      ]
     },
     "execution_count": 17,
     "metadata": {},
     "output_type": "execute_result"
    }
   ],
   "source": [
    "df.isnull().sum().sort_values(ascending=False)"
   ]
  },
  {
   "cell_type": "code",
   "execution_count": 30,
   "id": "4900a275",
   "metadata": {},
   "outputs": [
    {
     "data": {
      "text/plain": [
       "Index(['age', 'watch_hours', 'last_login_days', 'monthly_fee', 'churned',\n",
       "       'number_of_profiles', 'avg_watch_time_per_day'],\n",
       "      dtype='object')"
      ]
     },
     "execution_count": 30,
     "metadata": {},
     "output_type": "execute_result"
    }
   ],
   "source": [
    "numeric_columns = df.select_dtypes(include=['int64', 'float64']).columns\n",
    "numeric_columns"
   ]
  },
  {
   "cell_type": "code",
   "execution_count": 20,
   "id": "36a86077",
   "metadata": {},
   "outputs": [
    {
     "data": {
      "text/plain": [
       "(5000, 14)"
      ]
     },
     "execution_count": 20,
     "metadata": {},
     "output_type": "execute_result"
    }
   ],
   "source": [
    "df.shape"
   ]
  },
  {
   "cell_type": "code",
   "execution_count": 21,
   "id": "fc6a8867",
   "metadata": {},
   "outputs": [
    {
     "data": {
      "text/html": [
       "<div>\n",
       "<style scoped>\n",
       "    .dataframe tbody tr th:only-of-type {\n",
       "        vertical-align: middle;\n",
       "    }\n",
       "\n",
       "    .dataframe tbody tr th {\n",
       "        vertical-align: top;\n",
       "    }\n",
       "\n",
       "    .dataframe thead th {\n",
       "        text-align: right;\n",
       "    }\n",
       "</style>\n",
       "<table border=\"1\" class=\"dataframe\">\n",
       "  <thead>\n",
       "    <tr style=\"text-align: right;\">\n",
       "      <th></th>\n",
       "      <th>age</th>\n",
       "      <th>watch_hours</th>\n",
       "      <th>last_login_days</th>\n",
       "      <th>monthly_fee</th>\n",
       "      <th>churned</th>\n",
       "      <th>number_of_profiles</th>\n",
       "      <th>avg_watch_time_per_day</th>\n",
       "    </tr>\n",
       "  </thead>\n",
       "  <tbody>\n",
       "    <tr>\n",
       "      <th>count</th>\n",
       "      <td>5000.000000</td>\n",
       "      <td>5000.000000</td>\n",
       "      <td>5000.000000</td>\n",
       "      <td>5000.000000</td>\n",
       "      <td>5000.000000</td>\n",
       "      <td>5000.000000</td>\n",
       "      <td>5000.000000</td>\n",
       "    </tr>\n",
       "    <tr>\n",
       "      <th>mean</th>\n",
       "      <td>43.847400</td>\n",
       "      <td>11.649450</td>\n",
       "      <td>30.089800</td>\n",
       "      <td>13.683400</td>\n",
       "      <td>0.503000</td>\n",
       "      <td>3.024400</td>\n",
       "      <td>0.874800</td>\n",
       "    </tr>\n",
       "    <tr>\n",
       "      <th>std</th>\n",
       "      <td>15.501128</td>\n",
       "      <td>12.014654</td>\n",
       "      <td>17.536078</td>\n",
       "      <td>3.692062</td>\n",
       "      <td>0.500041</td>\n",
       "      <td>1.415841</td>\n",
       "      <td>2.619824</td>\n",
       "    </tr>\n",
       "    <tr>\n",
       "      <th>min</th>\n",
       "      <td>18.000000</td>\n",
       "      <td>0.010000</td>\n",
       "      <td>0.000000</td>\n",
       "      <td>8.990000</td>\n",
       "      <td>0.000000</td>\n",
       "      <td>1.000000</td>\n",
       "      <td>0.000000</td>\n",
       "    </tr>\n",
       "    <tr>\n",
       "      <th>25%</th>\n",
       "      <td>30.000000</td>\n",
       "      <td>3.337500</td>\n",
       "      <td>15.000000</td>\n",
       "      <td>8.990000</td>\n",
       "      <td>0.000000</td>\n",
       "      <td>2.000000</td>\n",
       "      <td>0.110000</td>\n",
       "    </tr>\n",
       "    <tr>\n",
       "      <th>50%</th>\n",
       "      <td>44.000000</td>\n",
       "      <td>8.000000</td>\n",
       "      <td>30.000000</td>\n",
       "      <td>13.990000</td>\n",
       "      <td>1.000000</td>\n",
       "      <td>3.000000</td>\n",
       "      <td>0.290000</td>\n",
       "    </tr>\n",
       "    <tr>\n",
       "      <th>75%</th>\n",
       "      <td>58.000000</td>\n",
       "      <td>16.030000</td>\n",
       "      <td>45.000000</td>\n",
       "      <td>17.990000</td>\n",
       "      <td>1.000000</td>\n",
       "      <td>4.000000</td>\n",
       "      <td>0.720000</td>\n",
       "    </tr>\n",
       "    <tr>\n",
       "      <th>max</th>\n",
       "      <td>70.000000</td>\n",
       "      <td>110.400000</td>\n",
       "      <td>60.000000</td>\n",
       "      <td>17.990000</td>\n",
       "      <td>1.000000</td>\n",
       "      <td>5.000000</td>\n",
       "      <td>98.420000</td>\n",
       "    </tr>\n",
       "  </tbody>\n",
       "</table>\n",
       "</div>"
      ],
      "text/plain": [
       "               age  watch_hours  last_login_days  monthly_fee      churned  \\\n",
       "count  5000.000000  5000.000000      5000.000000  5000.000000  5000.000000   \n",
       "mean     43.847400    11.649450        30.089800    13.683400     0.503000   \n",
       "std      15.501128    12.014654        17.536078     3.692062     0.500041   \n",
       "min      18.000000     0.010000         0.000000     8.990000     0.000000   \n",
       "25%      30.000000     3.337500        15.000000     8.990000     0.000000   \n",
       "50%      44.000000     8.000000        30.000000    13.990000     1.000000   \n",
       "75%      58.000000    16.030000        45.000000    17.990000     1.000000   \n",
       "max      70.000000   110.400000        60.000000    17.990000     1.000000   \n",
       "\n",
       "       number_of_profiles  avg_watch_time_per_day  \n",
       "count         5000.000000             5000.000000  \n",
       "mean             3.024400                0.874800  \n",
       "std              1.415841                2.619824  \n",
       "min              1.000000                0.000000  \n",
       "25%              2.000000                0.110000  \n",
       "50%              3.000000                0.290000  \n",
       "75%              4.000000                0.720000  \n",
       "max              5.000000               98.420000  "
      ]
     },
     "execution_count": 21,
     "metadata": {},
     "output_type": "execute_result"
    }
   ],
   "source": [
    "df.describe()"
   ]
  },
  {
   "cell_type": "code",
   "execution_count": 23,
   "id": "5817689b",
   "metadata": {},
   "outputs": [
    {
     "data": {
      "text/html": [
       "<div>\n",
       "<style scoped>\n",
       "    .dataframe tbody tr th:only-of-type {\n",
       "        vertical-align: middle;\n",
       "    }\n",
       "\n",
       "    .dataframe tbody tr th {\n",
       "        vertical-align: top;\n",
       "    }\n",
       "\n",
       "    .dataframe thead th {\n",
       "        text-align: right;\n",
       "    }\n",
       "</style>\n",
       "<table border=\"1\" class=\"dataframe\">\n",
       "  <thead>\n",
       "    <tr style=\"text-align: right;\">\n",
       "      <th></th>\n",
       "      <th>customer_id</th>\n",
       "      <th>gender</th>\n",
       "      <th>subscription_type</th>\n",
       "      <th>region</th>\n",
       "      <th>device</th>\n",
       "      <th>payment_method</th>\n",
       "      <th>favorite_genre</th>\n",
       "    </tr>\n",
       "  </thead>\n",
       "  <tbody>\n",
       "    <tr>\n",
       "      <th>count</th>\n",
       "      <td>5000</td>\n",
       "      <td>5000</td>\n",
       "      <td>5000</td>\n",
       "      <td>5000</td>\n",
       "      <td>5000</td>\n",
       "      <td>5000</td>\n",
       "      <td>5000</td>\n",
       "    </tr>\n",
       "    <tr>\n",
       "      <th>unique</th>\n",
       "      <td>5000</td>\n",
       "      <td>3</td>\n",
       "      <td>3</td>\n",
       "      <td>6</td>\n",
       "      <td>5</td>\n",
       "      <td>5</td>\n",
       "      <td>7</td>\n",
       "    </tr>\n",
       "    <tr>\n",
       "      <th>top</th>\n",
       "      <td>82aeef39-ddb0-40ad-bae1-5c436e0cf042</td>\n",
       "      <td>Female</td>\n",
       "      <td>Premium</td>\n",
       "      <td>South America</td>\n",
       "      <td>Tablet</td>\n",
       "      <td>Debit Card</td>\n",
       "      <td>Drama</td>\n",
       "    </tr>\n",
       "    <tr>\n",
       "      <th>freq</th>\n",
       "      <td>1</td>\n",
       "      <td>1711</td>\n",
       "      <td>1693</td>\n",
       "      <td>873</td>\n",
       "      <td>1048</td>\n",
       "      <td>1030</td>\n",
       "      <td>731</td>\n",
       "    </tr>\n",
       "  </tbody>\n",
       "</table>\n",
       "</div>"
      ],
      "text/plain": [
       "                                 customer_id  gender subscription_type  \\\n",
       "count                                   5000    5000              5000   \n",
       "unique                                  5000       3                 3   \n",
       "top     82aeef39-ddb0-40ad-bae1-5c436e0cf042  Female           Premium   \n",
       "freq                                       1    1711              1693   \n",
       "\n",
       "               region  device payment_method favorite_genre  \n",
       "count            5000    5000           5000           5000  \n",
       "unique              6       5              5              7  \n",
       "top     South America  Tablet     Debit Card          Drama  \n",
       "freq              873    1048           1030            731  "
      ]
     },
     "execution_count": 23,
     "metadata": {},
     "output_type": "execute_result"
    }
   ],
   "source": [
    "df.describe(include='object')"
   ]
  },
  {
   "cell_type": "code",
   "execution_count": 58,
   "id": "dd211491",
   "metadata": {},
   "outputs": [
    {
     "name": "stderr",
     "output_type": "stream",
     "text": [
      "C:\\Users\\rshew\\AppData\\Local\\Temp\\ipykernel_4800\\170983456.py:13: MatplotlibDeprecationWarning: The get_cmap function was deprecated in Matplotlib 3.7 and will be removed in 3.11. Use ``matplotlib.colormaps[name]`` or ``matplotlib.colormaps.get_cmap()`` or ``pyplot.get_cmap()`` instead.\n",
      "  cmap = plot.cm.get_cmap('viridis', len(patches))\n"
     ]
    },
    {
     "data": {
      "image/png": "[encoded data removed]",
      "text/plain": [
       "<Figure size 800x600 with 1 Axes>"
      ]
     },
     "metadata": {},
     "output_type": "display_data"
    },
    {
     "data": {
      "image/png": "[encoded data removed]",
      "text/plain": [
       "<Figure size 800x600 with 1 Axes>"
      ]
     },
     "metadata": {},
     "output_type": "display_data"
    },
    {
     "data": {
      "image/png": "[encoded data removed]",
      "text/plain": [
       "<Figure size 800x600 with 1 Axes>"
      ]
     },
     "metadata": {},
     "output_type": "display_data"
    },
    {
     "data": {
      "image/png": "[encoded data removed]",
      "text/plain": [
       "<Figure size 800x600 with 1 Axes>"
      ]
     },
     "metadata": {},
     "output_type": "display_data"
    }
   ],
   "source": [
    "import matplotlib.pyplot as plot\n",
    "# Plotting a histogram of a numeric column\n",
    "\n",
    "num_columns = ['age', 'watch_hours', 'number_of_profiles','avg_watch_time_per_day']\n",
    "\n",
    "\n",
    "for col in num_columns:\n",
    "    plot.figure(figsize=(8,6))\n",
    "    \n",
    "    data = df[col].dropna()\n",
    "    \n",
    "    n, bins, patches = plot.hist(data, bins=20, edgecolor='black')\n",
    "    cmap = plot.cm.get_cmap('viridis', len(patches))\n",
    "    \n",
    "    \n",
    "    for i, patch in enumerate(patches):\n",
    "        patch.set_facecolor(cmap(i))\n",
    "    \n",
    "    plot.title(f'Histogram of {col}')\n",
    "    plot.xlabel(col)\n",
    "    plot.ylabel('Frequency')\n",
    "    plot.grid(axis='y', alpha=0.45)\n",
    "    plot.show()\n",
    "    "
   ]
  },
  {
   "cell_type": "code",
   "execution_count": null,
   "id": "484a4b2b",
   "metadata": {},
   "outputs": [],
   "source": []
  }
 ],
 "metadata": {
  "kernelspec": {
   "display_name": "base",
   "language": "python",
   "name": "python3"
  },
  "language_info": {
   "codemirror_mode": {
    "name": "ipython",
    "version": 3
   },
   "file_extension": ".py",
   "mimetype": "text/x-python",
   "name": "python",
   "nbconvert_exporter": "python",
   "pygments_lexer": "ipython3",
   "version": "3.13.5"
  }
 },
 "nbformat": 4,
 "nbformat_minor": 5
}
